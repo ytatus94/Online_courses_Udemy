{
 "cells": [
  {
   "cell_type": "markdown",
   "id": "93cf4e14",
   "metadata": {},
   "source": [
    "# Practical Machine Learning with Scikit-Learn\n",
    "* [Regressioin](#Regression)\n",
    "* [Classification](#Classification)\n",
    "* [Boosting and Optimization](#Boosting-and-Optimization)"
   ]
  },
  {
   "cell_type": "markdown",
   "id": "1f384c04",
   "metadata": {},
   "source": [
    "## Regression\n",
    "* Data:\n",
    "  * [Fathers and Son height Data from Pearson's Data](https://www.kaggle.com/abhilash04/fathersandsonheight?select=Pearson.txt)\n",
    "  * [Graduate Admission 2](https://www.kaggle.com/mohansacharya/graduate-admissions?select=Admission_Predict.csv)\n",
    "  \n",
    "## The smaller dataset, the easier to get overfitting"
   ]
  },
  {
   "cell_type": "markdown",
   "id": "61cd4ee6",
   "metadata": {},
   "source": [
    "### 1. Father & son height\n",
    "* Models:\n",
    "  * Linear regression\n",
    "  * Polynominal"
   ]
  },
  {
   "cell_type": "markdown",
   "id": "f76ba9c8",
   "metadata": {},
   "source": [
    "#### 1a. Load data\n",
    "* 因為輸入檔案是 txt 檔，所以要用 `sep=\"\\t\"` 指明是用 tab 當分隔符號"
   ]
  },
  {
   "cell_type": "code",
   "execution_count": 1,
   "id": "8f853c04",
   "metadata": {},
   "outputs": [
    {
     "data": {
      "text/html": [
       "<div>\n",
       "<style scoped>\n",
       "    .dataframe tbody tr th:only-of-type {\n",
       "        vertical-align: middle;\n",
       "    }\n",
       "\n",
       "    .dataframe tbody tr th {\n",
       "        vertical-align: top;\n",
       "    }\n",
       "\n",
       "    .dataframe thead th {\n",
       "        text-align: right;\n",
       "    }\n",
       "</style>\n",
       "<table border=\"1\" class=\"dataframe\">\n",
       "  <thead>\n",
       "    <tr style=\"text-align: right;\">\n",
       "      <th></th>\n",
       "      <th>Father</th>\n",
       "      <th>Son</th>\n",
       "    </tr>\n",
       "  </thead>\n",
       "  <tbody>\n",
       "    <tr>\n",
       "      <th>0</th>\n",
       "      <td>65.0</td>\n",
       "      <td>59.8</td>\n",
       "    </tr>\n",
       "    <tr>\n",
       "      <th>1</th>\n",
       "      <td>63.3</td>\n",
       "      <td>63.2</td>\n",
       "    </tr>\n",
       "    <tr>\n",
       "      <th>2</th>\n",
       "      <td>65.0</td>\n",
       "      <td>63.3</td>\n",
       "    </tr>\n",
       "    <tr>\n",
       "      <th>3</th>\n",
       "      <td>65.8</td>\n",
       "      <td>62.8</td>\n",
       "    </tr>\n",
       "    <tr>\n",
       "      <th>4</th>\n",
       "      <td>61.1</td>\n",
       "      <td>64.3</td>\n",
       "    </tr>\n",
       "  </tbody>\n",
       "</table>\n",
       "</div>"
      ],
      "text/plain": [
       "   Father   Son\n",
       "0    65.0  59.8\n",
       "1    63.3  63.2\n",
       "2    65.0  63.3\n",
       "3    65.8  62.8\n",
       "4    61.1  64.3"
      ]
     },
     "metadata": {},
     "output_type": "display_data"
    },
    {
     "name": "stdout",
     "output_type": "stream",
     "text": [
      "<class 'pandas.core.frame.DataFrame'>\n",
      "RangeIndex: 1078 entries, 0 to 1077\n",
      "Data columns (total 2 columns):\n",
      " #   Column  Non-Null Count  Dtype  \n",
      "---  ------  --------------  -----  \n",
      " 0   Father  1078 non-null   float64\n",
      " 1   Son     1078 non-null   float64\n",
      "dtypes: float64(2)\n",
      "memory usage: 17.0 KB\n",
      "None\n",
      "(1078,)\n",
      "<class 'numpy.ndarray'> [[65. ]\n",
      " [63.3]\n",
      " [65. ]\n",
      " ...\n",
      " [71.8]\n",
      " [70.7]\n",
      " [70.3]] (1078, 1)\n",
      "<class 'numpy.ndarray'> [59.8 63.2 63.3 ... 69.3 69.3 67. ] (1078,)\n"
     ]
    }
   ],
   "source": [
    "import pandas as pd\n",
    "from IPython.display import display\n",
    "\n",
    "# dataset = pd.read_csv(\"fathersonheight.csv\")\n",
    "dataset = pd.read_csv(\"/Users/ytshen/Desktop/Machine_Learning/datasets/Pearson.txt\", sep=\"\\t\")\n",
    "display(dataset.head())\n",
    "print(dataset.info())\n",
    "\n",
    "x = dataset[\"Father\"].values.reshape(-1, 1)\n",
    "y = dataset[\"Son\"].values\n",
    "print(dataset[\"Father\"].values.shape) # 如果不 reshape 的話，dataset[\"Father\"].values 的格式不是我們要用來訓練的格式\n",
    "print(type(x), x, x.shape)\n",
    "print(type(y), y, y.shape)"
   ]
  },
  {
   "cell_type": "markdown",
   "id": "f9b9b4b2",
   "metadata": {},
   "source": [
    "#### 1b. Linear regression model"
   ]
  },
  {
   "cell_type": "code",
   "execution_count": 2,
   "id": "9ebe668a",
   "metadata": {},
   "outputs": [
    {
     "data": {
      "image/png": "[encoded data removed]",
      "text/plain": [
       "<Figure size 432x288 with 1 Axes>"
      ]
     },
     "metadata": {
      "needs_background": "light"
     },
     "output_type": "display_data"
    }
   ],
   "source": [
    "from sklearn.linear_model import LinearRegression\n",
    "\n",
    "lin_reg = LinearRegression()\n",
    "lin_reg.fit(x, y)\n",
    "\n",
    "import matplotlib.pyplot as plt\n",
    "\n",
    "plt.scatter(x, y, color=\"blue\")\n",
    "plt.plot(x, lin_reg.predict(x), color=\"red\", linewidth=4)\n",
    "plt.show()"
   ]
  },
  {
   "cell_type": "markdown",
   "id": "81312502",
   "metadata": {},
   "source": [
    "#### 1c. Polynominal model"
   ]
  },
  {
   "cell_type": "code",
   "execution_count": 3,
   "id": "81946309",
   "metadata": {},
   "outputs": [
    {
     "data": {
      "image/png": "[encoded data removed]",
      "text/plain": [
       "<Figure size 432x288 with 1 Axes>"
      ]
     },
     "metadata": {
      "needs_background": "light"
     },
     "output_type": "display_data"
    }
   ],
   "source": [
    "from sklearn.preprocessing import PolynomialFeatures\n",
    "\n",
    "poly = PolynomialFeatures(degree = 4) # use degree=4 for quadratic\n",
    "x_poly = poly.fit_transform(x) # convert the x values to polynomial\n",
    "poly.fit(x_poly, y)\n",
    "\n",
    "lin_reg_poly = LinearRegression()\n",
    "lin_reg_poly.fit(x_poly, y)\n",
    "\n",
    "import matplotlib.pyplot as plt\n",
    "\n",
    "plt.scatter(x, y, color=\"blue\")\n",
    "plt.plot(x, lin_reg_poly.predict(poly.fit_transform(x)), color=\"red\", linewidth=4)\n",
    "plt.show()"
   ]
  },
  {
   "cell_type": "markdown",
   "id": "738c1712",
   "metadata": {},
   "source": [
    "### 2. Admission prediction"
   ]
  },
  {
   "cell_type": "markdown",
   "id": "5cac4de5",
   "metadata": {},
   "source": [
    "#### 2a. Load data\n",
    "* 因為輸入資料包含了 index 所以要在讀取時指明是要把哪個欄位當作 index"
   ]
  },
  {
   "cell_type": "code",
   "execution_count": 4,
   "id": "71311e43",
   "metadata": {
    "scrolled": false
   },
   "outputs": [
    {
     "data": {
      "text/html": [
       "<div>\n",
       "<style scoped>\n",
       "    .dataframe tbody tr th:only-of-type {\n",
       "        vertical-align: middle;\n",
       "    }\n",
       "\n",
       "    .dataframe tbody tr th {\n",
       "        vertical-align: top;\n",
       "    }\n",
       "\n",
       "    .dataframe thead th {\n",
       "        text-align: right;\n",
       "    }\n",
       "</style>\n",
       "<table border=\"1\" class=\"dataframe\">\n",
       "  <thead>\n",
       "    <tr style=\"text-align: right;\">\n",
       "      <th></th>\n",
       "      <th>GRE Score</th>\n",
       "      <th>TOEFL Score</th>\n",
       "      <th>University Rating</th>\n",
       "      <th>SOP</th>\n",
       "      <th>LOR</th>\n",
       "      <th>CGPA</th>\n",
       "      <th>Research</th>\n",
       "      <th>Chance of Admit</th>\n",
       "    </tr>\n",
       "    <tr>\n",
       "      <th>Serial No.</th>\n",
       "      <th></th>\n",
       "      <th></th>\n",
       "      <th></th>\n",
       "      <th></th>\n",
       "      <th></th>\n",
       "      <th></th>\n",
       "      <th></th>\n",
       "      <th></th>\n",
       "    </tr>\n",
       "  </thead>\n",
       "  <tbody>\n",
       "    <tr>\n",
       "      <th>1</th>\n",
       "      <td>337</td>\n",
       "      <td>118</td>\n",
       "      <td>4</td>\n",
       "      <td>4.5</td>\n",
       "      <td>4.5</td>\n",
       "      <td>9.65</td>\n",
       "      <td>1</td>\n",
       "      <td>0.92</td>\n",
       "    </tr>\n",
       "    <tr>\n",
       "      <th>2</th>\n",
       "      <td>324</td>\n",
       "      <td>107</td>\n",
       "      <td>4</td>\n",
       "      <td>4.0</td>\n",
       "      <td>4.5</td>\n",
       "      <td>8.87</td>\n",
       "      <td>1</td>\n",
       "      <td>0.76</td>\n",
       "    </tr>\n",
       "    <tr>\n",
       "      <th>3</th>\n",
       "      <td>316</td>\n",
       "      <td>104</td>\n",
       "      <td>3</td>\n",
       "      <td>3.0</td>\n",
       "      <td>3.5</td>\n",
       "      <td>8.00</td>\n",
       "      <td>1</td>\n",
       "      <td>0.72</td>\n",
       "    </tr>\n",
       "    <tr>\n",
       "      <th>4</th>\n",
       "      <td>322</td>\n",
       "      <td>110</td>\n",
       "      <td>3</td>\n",
       "      <td>3.5</td>\n",
       "      <td>2.5</td>\n",
       "      <td>8.67</td>\n",
       "      <td>1</td>\n",
       "      <td>0.80</td>\n",
       "    </tr>\n",
       "    <tr>\n",
       "      <th>5</th>\n",
       "      <td>314</td>\n",
       "      <td>103</td>\n",
       "      <td>2</td>\n",
       "      <td>2.0</td>\n",
       "      <td>3.0</td>\n",
       "      <td>8.21</td>\n",
       "      <td>0</td>\n",
       "      <td>0.65</td>\n",
       "    </tr>\n",
       "  </tbody>\n",
       "</table>\n",
       "</div>"
      ],
      "text/plain": [
       "            GRE Score  TOEFL Score  University Rating  SOP  LOR   CGPA  \\\n",
       "Serial No.                                                               \n",
       "1                 337          118                  4  4.5   4.5  9.65   \n",
       "2                 324          107                  4  4.0   4.5  8.87   \n",
       "3                 316          104                  3  3.0   3.5  8.00   \n",
       "4                 322          110                  3  3.5   2.5  8.67   \n",
       "5                 314          103                  2  2.0   3.0  8.21   \n",
       "\n",
       "            Research  Chance of Admit   \n",
       "Serial No.                              \n",
       "1                  1              0.92  \n",
       "2                  1              0.76  \n",
       "3                  1              0.72  \n",
       "4                  1              0.80  \n",
       "5                  0              0.65  "
      ]
     },
     "metadata": {},
     "output_type": "display_data"
    },
    {
     "name": "stdout",
     "output_type": "stream",
     "text": [
      "<class 'pandas.core.frame.DataFrame'>\n",
      "Int64Index: 400 entries, 1 to 400\n",
      "Data columns (total 8 columns):\n",
      " #   Column             Non-Null Count  Dtype  \n",
      "---  ------             --------------  -----  \n",
      " 0   GRE Score          400 non-null    int64  \n",
      " 1   TOEFL Score        400 non-null    int64  \n",
      " 2   University Rating  400 non-null    int64  \n",
      " 3   SOP                400 non-null    float64\n",
      " 4   LOR                400 non-null    float64\n",
      " 5   CGPA               400 non-null    float64\n",
      " 6   Research           400 non-null    int64  \n",
      " 7   Chance of Admit    400 non-null    float64\n",
      "dtypes: float64(4), int64(4)\n",
      "memory usage: 28.1 KB\n",
      "None\n",
      "<class 'numpy.ndarray'> [[337.   118.     4.     4.5    4.5    9.65]\n",
      " [324.   107.     4.     4.     4.5    8.87]\n",
      " [316.   104.     3.     3.     3.5    8.  ]\n",
      " ...\n",
      " [330.   116.     4.     5.     4.5    9.45]\n",
      " [312.   103.     3.     3.5    4.     8.78]\n",
      " [333.   117.     4.     5.     4.     9.66]] (400, 6)\n",
      "<class 'numpy.ndarray'> [0.92 0.76 0.72 0.8  0.65 0.9  0.75 0.68 0.5  0.45 0.52 0.84 0.78 0.62\n",
      " 0.61 0.54 0.66 0.65 0.63 0.62 0.64 0.7  0.94 0.95 0.97 0.94 0.76 0.44\n",
      " 0.46 0.54 0.65 0.74 0.91 0.9  0.94 0.88 0.64 0.58 0.52 0.48 0.46 0.49\n",
      " 0.53 0.87 0.91 0.88 0.86 0.89 0.82 0.78 0.76 0.56 0.78 0.72 0.7  0.64\n",
      " 0.64 0.46 0.36 0.42 0.48 0.47 0.54 0.56 0.52 0.55 0.61 0.57 0.68 0.78\n",
      " 0.94 0.96 0.93 0.84 0.74 0.72 0.74 0.64 0.44 0.46 0.5  0.96 0.92 0.92\n",
      " 0.94 0.76 0.72 0.66 0.64 0.74 0.64 0.38 0.34 0.44 0.36 0.42 0.48 0.86\n",
      " 0.9  0.79 0.71 0.64 0.62 0.57 0.74 0.69 0.87 0.91 0.93 0.68 0.61 0.69\n",
      " 0.62 0.72 0.59 0.66 0.56 0.45 0.47 0.71 0.94 0.94 0.57 0.61 0.57 0.64\n",
      " 0.85 0.78 0.84 0.92 0.96 0.77 0.71 0.79 0.89 0.82 0.76 0.71 0.8  0.78\n",
      " 0.84 0.9  0.92 0.97 0.8  0.81 0.75 0.83 0.96 0.79 0.93 0.94 0.86 0.79\n",
      " 0.8  0.77 0.7  0.65 0.61 0.52 0.57 0.53 0.67 0.68 0.81 0.78 0.65 0.64\n",
      " 0.64 0.65 0.68 0.89 0.86 0.89 0.87 0.85 0.9  0.82 0.72 0.73 0.71 0.71\n",
      " 0.68 0.75 0.72 0.89 0.84 0.93 0.93 0.88 0.9  0.87 0.86 0.94 0.77 0.78\n",
      " 0.73 0.73 0.7  0.72 0.73 0.72 0.97 0.97 0.69 0.57 0.63 0.66 0.64 0.68\n",
      " 0.79 0.82 0.95 0.96 0.94 0.93 0.91 0.85 0.84 0.74 0.76 0.75 0.76 0.71\n",
      " 0.67 0.61 0.63 0.64 0.71 0.82 0.73 0.74 0.69 0.64 0.91 0.88 0.85 0.86\n",
      " 0.7  0.59 0.6  0.65 0.7  0.76 0.63 0.81 0.72 0.71 0.8  0.77 0.74 0.7\n",
      " 0.71 0.93 0.85 0.79 0.76 0.78 0.77 0.9  0.87 0.71 0.7  0.7  0.75 0.71\n",
      " 0.72 0.73 0.83 0.77 0.72 0.54 0.49 0.52 0.58 0.78 0.89 0.7  0.66 0.67\n",
      " 0.68 0.8  0.81 0.8  0.94 0.93 0.92 0.89 0.82 0.79 0.58 0.56 0.56 0.64\n",
      " 0.61 0.68 0.76 0.86 0.9  0.71 0.62 0.66 0.65 0.73 0.62 0.74 0.79 0.8\n",
      " 0.69 0.7  0.76 0.84 0.78 0.67 0.66 0.65 0.54 0.58 0.79 0.8  0.75 0.73\n",
      " 0.72 0.62 0.67 0.81 0.63 0.69 0.8  0.43 0.8  0.73 0.75 0.71 0.73 0.83\n",
      " 0.72 0.94 0.81 0.81 0.75 0.79 0.58 0.59 0.47 0.49 0.47 0.42 0.57 0.62\n",
      " 0.74 0.73 0.64 0.63 0.59 0.73 0.79 0.68 0.7  0.81 0.85 0.93 0.91 0.69\n",
      " 0.77 0.86 0.74 0.57 0.51 0.67 0.72 0.89 0.95 0.79 0.39 0.38 0.34 0.47\n",
      " 0.56 0.71 0.78 0.73 0.82 0.62 0.96 0.96 0.46 0.53 0.49 0.76 0.64 0.71\n",
      " 0.84 0.77 0.89 0.82 0.84 0.91 0.67 0.95] (400,)\n"
     ]
    }
   ],
   "source": [
    "import pandas as pd\n",
    "\n",
    "# dataset = pd.read_csv(\"admissiondata.csv\")\n",
    "dataset = pd.read_csv(\"/Users/ytshen/Desktop/Machine_Learning/datasets/Admission_Predict.csv\", index_col=0)\n",
    "display(dataset.head())\n",
    "print(dataset.info())\n",
    "\n",
    "x = dataset.iloc[:, 0:6].values\n",
    "y = dataset.iloc[:, 7].values\n",
    "print(type(x), x, x.shape)\n",
    "print(type(y), y, y.shape)"
   ]
  },
  {
   "cell_type": "markdown",
   "id": "aed3fde8",
   "metadata": {},
   "source": [
    "#### 2b. Data engeering\n",
    "* 把 80% 的資料當作 training set 剩下的 20% 的資料當作 testing set"
   ]
  },
  {
   "cell_type": "code",
   "execution_count": 5,
   "id": "20cee8a8",
   "metadata": {
    "scrolled": false
   },
   "outputs": [
    {
     "name": "stdout",
     "output_type": "stream",
     "text": [
      "<class 'numpy.ndarray'> [[315.   110.     2.     3.5    3.     8.46]\n",
      " [315.    99.     2.     3.5    3.     7.89]\n",
      " [332.   119.     4.     5.     4.5    9.24]\n",
      " ...\n",
      " [328.   110.     4.     5.     4.     9.14]\n",
      " [339.   119.     5.     4.5    4.     9.7 ]\n",
      " [336.   119.     5.     4.     3.5    9.8 ]] (320, 6)\n",
      "<class 'numpy.ndarray'> [0.72 0.63 0.9  0.61 0.79 0.48 0.94 0.72 0.69 0.75 0.75 0.69 0.78 0.7\n",
      " 0.75 0.73 0.68 0.69 0.93 0.68 0.93 0.91 0.49 0.67 0.96 0.59 0.76 0.63\n",
      " 0.93 0.74 0.57 0.7  0.82 0.89 0.64 0.84 0.88 0.34 0.76 0.81 0.91 0.47\n",
      " 0.84 0.82 0.56 0.85 0.66 0.85 0.93 0.64 0.82 0.89 0.57 0.79 0.71 0.73\n",
      " 0.67 0.5  0.44 0.73 0.71 0.59 0.95 0.92 0.94 0.79 0.69 0.52 0.72 0.67\n",
      " 0.89 0.73 0.57 0.59 0.72 0.89 0.85 0.83 0.81 0.86 0.71 0.64 0.78 0.75\n",
      " 0.78 0.75 0.94 0.84 0.64 0.38 0.81 0.61 0.7  0.95 0.74 0.8  0.39 0.68\n",
      " 0.56 0.75 0.9  0.85 0.71 0.92 0.63 0.58 0.84 0.94 0.69 0.69 0.71 0.71\n",
      " 0.81 0.83 0.89 0.72 0.82 0.7  0.64 0.8  0.96 0.57 0.8  0.36 0.76 0.88\n",
      " 0.61 0.74 0.47 0.84 0.88 0.87 0.6  0.91 0.72 0.65 0.85 0.86 0.91 0.8\n",
      " 0.76 0.51 0.76 0.64 0.77 0.63 0.65 0.8  0.68 0.71 0.76 0.79 0.56 0.76\n",
      " 0.96 0.81 0.8  0.74 0.7  0.74 0.9  0.71 0.89 0.74 0.72 0.57 0.66 0.48\n",
      " 0.42 0.47 0.71 0.7  0.64 0.46 0.49 0.58 0.78 0.72 0.68 0.76 0.57 0.78\n",
      " 0.57 0.73 0.46 0.45 0.91 0.94 0.7  0.87 0.8  0.47 0.82 0.9  0.78 0.61\n",
      " 0.67 0.66 0.73 0.64 0.68 0.44 0.62 0.64 0.76 0.78 0.86 0.72 0.77 0.64\n",
      " 0.62 0.89 0.73 0.79 0.56 0.84 0.64 0.86 0.73 0.92 0.62 0.8  0.84 0.66\n",
      " 0.73 0.79 0.74 0.73 0.67 0.94 0.97 0.79 0.58 0.75 0.38 0.83 0.92 0.68\n",
      " 0.96 0.54 0.92 0.86 0.78 0.68 0.62 0.34 0.9  0.65 0.91 0.74 0.78 0.96\n",
      " 0.52 0.86 0.72 0.73 0.82 0.74 0.89 0.49 0.66 0.64 0.72 0.93 0.77 0.52\n",
      " 0.74 0.64 0.72 0.42 0.61 0.48 0.93 0.9  0.78 0.59 0.46 0.64 0.76 0.75\n",
      " 0.46 0.62 0.7  0.77 0.94 0.9  0.55 0.94 0.8  0.72 0.65 0.79 0.68 0.44\n",
      " 0.61 0.95 0.76 0.62 0.8  0.8  0.71 0.64 0.93 0.43 0.71 0.53 0.47 0.79\n",
      " 0.74 0.9  0.67 0.7  0.92 0.84 0.54 0.65 0.54 0.82 0.89 0.97] (320,)\n",
      "<class 'numpy.ndarray'> [[303.   102.     3.     3.5    3.     8.5 ]\n",
      " [322.   110.     4.     4.     5.     9.13]\n",
      " [325.   114.     3.     3.5    3.     9.04]\n",
      " [320.   111.     4.     4.5    3.5    8.87]\n",
      " [317.   103.     3.     2.5    3.     8.54]\n",
      " [332.   117.     4.     4.5    4.     9.1 ]\n",
      " [331.   112.     5.     4.     5.     9.8 ]\n",
      " [319.   108.     3.     3.     3.5    8.54]\n",
      " [307.   105.     2.     2.     3.5    8.1 ]\n",
      " [316.    99.     2.     2.5    3.     9.  ]\n",
      " [321.   111.     3.     3.5    4.     8.83]\n",
      " [325.   111.     3.     3.     3.5    8.7 ]\n",
      " [305.   105.     2.     3.     2.     8.23]\n",
      " [331.   117.     4.     4.5    5.     9.42]\n",
      " [290.   104.     4.     2.     2.5    7.46]\n",
      " [340.   115.     5.     4.5    4.5    9.45]\n",
      " [336.   112.     5.     5.     5.     9.76]\n",
      " [300.    99.     1.     3.     2.     6.8 ]\n",
      " [302.    99.     2.     1.     2.     7.97]\n",
      " [324.   107.     5.     3.5    4.     8.66]\n",
      " [334.   120.     5.     4.     5.     9.87]\n",
      " [314.   105.     3.     3.5    2.5    8.3 ]\n",
      " [322.   110.     5.     4.5    4.     8.97]\n",
      " [338.   120.     4.     5.     5.     9.66]\n",
      " [313.   102.     3.     3.5    4.     8.9 ]\n",
      " [340.   120.     5.     4.5    4.5    9.6 ]\n",
      " [311.   104.     2.     2.     2.     8.3 ]\n",
      " [297.   100.     1.     1.5    2.     7.9 ]\n",
      " [310.   106.     2.     3.5    2.5    8.33]\n",
      " [298.    99.     1.     1.5    3.     7.46]\n",
      " [321.   111.     5.     5.     5.     9.45]\n",
      " [338.   118.     4.     3.     4.5    9.4 ]\n",
      " [316.   105.     2.     2.5    2.5    8.2 ]\n",
      " [304.   105.     2.     3.     3.     8.2 ]\n",
      " [312.   106.     3.     4.     3.5    8.79]\n",
      " [320.   110.     5.     5.     5.     9.2 ]\n",
      " [324.   115.     3.     3.5    3.     8.76]\n",
      " [316.   105.     3.     3.     3.5    8.73]\n",
      " [301.    99.     2.     3.     2.     8.22]\n",
      " [321.   107.     2.     2.     1.5    8.44]\n",
      " [299.   102.     3.     4.     3.5    8.62]\n",
      " [322.   104.     3.     3.5    4.     8.84]\n",
      " [314.   105.     2.     2.5    2.     7.64]\n",
      " [322.   107.     3.     3.5    3.5    8.46]\n",
      " [300.   102.     3.     3.5    2.5    8.17]\n",
      " [308.   108.     3.     3.5    3.5    8.22]\n",
      " [324.   111.     4.     3.     3.     9.01]\n",
      " [319.   106.     3.     4.     3.     8.  ]\n",
      " [323.   112.     5.     4.     4.5    8.78]\n",
      " [295.    99.     2.     2.5    3.     7.65]\n",
      " [306.   103.     2.     2.5    3.     8.36]\n",
      " [308.   108.     4.     4.5    5.     8.34]\n",
      " [302.   102.     3.     3.5    5.     8.33]\n",
      " [315.   100.     1.     2.     2.5    7.95]\n",
      " [309.   106.     2.     2.5    2.5    8.  ]\n",
      " [330.   114.     4.     4.5    3.     9.17]\n",
      " [326.   112.     4.     4.     3.5    9.12]\n",
      " [322.   105.     2.     3.     3.     8.45]\n",
      " [329.   111.     4.     4.5    4.5    9.18]\n",
      " [323.   113.     3.     4.     4.     8.88]\n",
      " [313.   102.     3.     2.     3.     8.27]\n",
      " [295.    93.     1.     2.     2.     7.2 ]\n",
      " [340.   120.     4.     5.     5.     9.5 ]\n",
      " [300.   104.     3.     3.5    3.     8.16]\n",
      " [307.   105.     2.     2.5    3.     7.65]\n",
      " [320.   110.     2.     4.     3.5    8.56]\n",
      " [334.   114.     4.     4.     4.     9.43]\n",
      " [307.   110.     4.     4.     4.5    8.37]\n",
      " [306.   110.     2.     3.5    4.     8.45]\n",
      " [340.   120.     5.     4.5    4.5    9.91]\n",
      " [310.   102.     3.     3.5    4.     8.02]\n",
      " [305.   105.     2.     3.     4.     8.13]\n",
      " [316.   109.     3.     3.5    3.     8.76]\n",
      " [318.   109.     3.     3.5    4.     9.22]\n",
      " [309.   104.     2.     2.     2.5    8.26]\n",
      " [312.   105.     3.     2.     3.     8.02]\n",
      " [313.   106.     2.     2.5    2.     8.43]\n",
      " [318.   106.     3.     2.     3.     8.65]\n",
      " [327.   108.     5.     5.     3.5    9.13]\n",
      " [311.    99.     1.     2.5    3.     8.43]] (80, 6)\n",
      "<class 'numpy.ndarray'> [0.62 0.86 0.76 0.85 0.73 0.87 0.94 0.71 0.53 0.7  0.77 0.52 0.67 0.94\n",
      " 0.45 0.94 0.96 0.36 0.56 0.81 0.97 0.54 0.78 0.95 0.77 0.94 0.42 0.52\n",
      " 0.73 0.53 0.93 0.91 0.49 0.54 0.81 0.88 0.7  0.72 0.64 0.81 0.56 0.78\n",
      " 0.7  0.71 0.63 0.61 0.82 0.65 0.79 0.57 0.69 0.77 0.65 0.58 0.62 0.86\n",
      " 0.84 0.65 0.87 0.79 0.64 0.46 0.96 0.71 0.58 0.72 0.93 0.79 0.63 0.97\n",
      " 0.66 0.66 0.77 0.68 0.65 0.5  0.62 0.71 0.87 0.71] (80,)\n"
     ]
    }
   ],
   "source": [
    "from sklearn.model_selection import train_test_split\n",
    "\n",
    "x_train, x_test, y_train, y_test = train_test_split(x, y, test_size=0.2)\n",
    "\n",
    "print(type(x_train), x_train, x_train.shape)\n",
    "print(type(y_train), y_train, y_train.shape)\n",
    "\n",
    "print(type(x_test), x_test, x_test.shape)\n",
    "print(type(y_test), y_test, y_test.shape)"
   ]
  },
  {
   "cell_type": "markdown",
   "id": "5cae8a8a",
   "metadata": {},
   "source": [
    "#### 2c. Polynomial model"
   ]
  },
  {
   "cell_type": "code",
   "execution_count": 6,
   "id": "1190761b",
   "metadata": {},
   "outputs": [
    {
     "name": "stdout",
     "output_type": "stream",
     "text": [
      "0.004442341379769534\n"
     ]
    }
   ],
   "source": [
    "from sklearn.preprocessing import PolynomialFeatures\n",
    "\n",
    "multi_poly = PolynomialFeatures(degree=2) # 這裡只用 2 次多項式\n",
    "x_poly = multi_poly.fit_transform(x_train)\n",
    "multi_poly.fit(x_poly, y_train)\n",
    "\n",
    "lin_reg_multi = LinearRegression()\n",
    "lin_reg_multi.fit(x_poly, y_train)\n",
    "\n",
    "y_preds = lin_reg_multi.predict(multi_poly.fit_transform(x_test))\n",
    "\n",
    "from sklearn import metrics\n",
    "# To know how good is our model\n",
    "# 因為這裏是用 linear regression 模型，可以用 MSE 來判斷模型預測的結果的好壞\n",
    "print(metrics.mean_squared_error(y_test, y_preds))"
   ]
  },
  {
   "cell_type": "markdown",
   "id": "8a346e9e",
   "metadata": {},
   "source": [
    "## Classification\n",
    "* Data:\n",
    "  * [Breast Cancer Wisconsin (Diagnostic) Data Set](https://www.kaggle.com/uciml/breast-cancer-wisconsin-data?select=data.csv)"
   ]
  },
  {
   "cell_type": "markdown",
   "id": "2236c95f",
   "metadata": {},
   "source": [
    "#### 1a. Load data"
   ]
  },
  {
   "cell_type": "code",
   "execution_count": 7,
   "id": "bddab907",
   "metadata": {},
   "outputs": [
    {
     "data": {
      "text/html": [
       "<div>\n",
       "<style scoped>\n",
       "    .dataframe tbody tr th:only-of-type {\n",
       "        vertical-align: middle;\n",
       "    }\n",
       "\n",
       "    .dataframe tbody tr th {\n",
       "        vertical-align: top;\n",
       "    }\n",
       "\n",
       "    .dataframe thead th {\n",
       "        text-align: right;\n",
       "    }\n",
       "</style>\n",
       "<table border=\"1\" class=\"dataframe\">\n",
       "  <thead>\n",
       "    <tr style=\"text-align: right;\">\n",
       "      <th></th>\n",
       "      <th>id</th>\n",
       "      <th>diagnosis</th>\n",
       "      <th>radius_mean</th>\n",
       "      <th>texture_mean</th>\n",
       "      <th>perimeter_mean</th>\n",
       "      <th>area_mean</th>\n",
       "      <th>smoothness_mean</th>\n",
       "      <th>compactness_mean</th>\n",
       "      <th>concavity_mean</th>\n",
       "      <th>concave points_mean</th>\n",
       "      <th>...</th>\n",
       "      <th>texture_worst</th>\n",
       "      <th>perimeter_worst</th>\n",
       "      <th>area_worst</th>\n",
       "      <th>smoothness_worst</th>\n",
       "      <th>compactness_worst</th>\n",
       "      <th>concavity_worst</th>\n",
       "      <th>concave points_worst</th>\n",
       "      <th>symmetry_worst</th>\n",
       "      <th>fractal_dimension_worst</th>\n",
       "      <th>Unnamed: 32</th>\n",
       "    </tr>\n",
       "  </thead>\n",
       "  <tbody>\n",
       "    <tr>\n",
       "      <th>0</th>\n",
       "      <td>842302</td>\n",
       "      <td>M</td>\n",
       "      <td>17.99</td>\n",
       "      <td>10.38</td>\n",
       "      <td>122.80</td>\n",
       "      <td>1001.0</td>\n",
       "      <td>0.11840</td>\n",
       "      <td>0.27760</td>\n",
       "      <td>0.3001</td>\n",
       "      <td>0.14710</td>\n",
       "      <td>...</td>\n",
       "      <td>17.33</td>\n",
       "      <td>184.60</td>\n",
       "      <td>2019.0</td>\n",
       "      <td>0.1622</td>\n",
       "      <td>0.6656</td>\n",
       "      <td>0.7119</td>\n",
       "      <td>0.2654</td>\n",
       "      <td>0.4601</td>\n",
       "      <td>0.11890</td>\n",
       "      <td>NaN</td>\n",
       "    </tr>\n",
       "    <tr>\n",
       "      <th>1</th>\n",
       "      <td>842517</td>\n",
       "      <td>M</td>\n",
       "      <td>20.57</td>\n",
       "      <td>17.77</td>\n",
       "      <td>132.90</td>\n",
       "      <td>1326.0</td>\n",
       "      <td>0.08474</td>\n",
       "      <td>0.07864</td>\n",
       "      <td>0.0869</td>\n",
       "      <td>0.07017</td>\n",
       "      <td>...</td>\n",
       "      <td>23.41</td>\n",
       "      <td>158.80</td>\n",
       "      <td>1956.0</td>\n",
       "      <td>0.1238</td>\n",
       "      <td>0.1866</td>\n",
       "      <td>0.2416</td>\n",
       "      <td>0.1860</td>\n",
       "      <td>0.2750</td>\n",
       "      <td>0.08902</td>\n",
       "      <td>NaN</td>\n",
       "    </tr>\n",
       "    <tr>\n",
       "      <th>2</th>\n",
       "      <td>84300903</td>\n",
       "      <td>M</td>\n",
       "      <td>19.69</td>\n",
       "      <td>21.25</td>\n",
       "      <td>130.00</td>\n",
       "      <td>1203.0</td>\n",
       "      <td>0.10960</td>\n",
       "      <td>0.15990</td>\n",
       "      <td>0.1974</td>\n",
       "      <td>0.12790</td>\n",
       "      <td>...</td>\n",
       "      <td>25.53</td>\n",
       "      <td>152.50</td>\n",
       "      <td>1709.0</td>\n",
       "      <td>0.1444</td>\n",
       "      <td>0.4245</td>\n",
       "      <td>0.4504</td>\n",
       "      <td>0.2430</td>\n",
       "      <td>0.3613</td>\n",
       "      <td>0.08758</td>\n",
       "      <td>NaN</td>\n",
       "    </tr>\n",
       "    <tr>\n",
       "      <th>3</th>\n",
       "      <td>84348301</td>\n",
       "      <td>M</td>\n",
       "      <td>11.42</td>\n",
       "      <td>20.38</td>\n",
       "      <td>77.58</td>\n",
       "      <td>386.1</td>\n",
       "      <td>0.14250</td>\n",
       "      <td>0.28390</td>\n",
       "      <td>0.2414</td>\n",
       "      <td>0.10520</td>\n",
       "      <td>...</td>\n",
       "      <td>26.50</td>\n",
       "      <td>98.87</td>\n",
       "      <td>567.7</td>\n",
       "      <td>0.2098</td>\n",
       "      <td>0.8663</td>\n",
       "      <td>0.6869</td>\n",
       "      <td>0.2575</td>\n",
       "      <td>0.6638</td>\n",
       "      <td>0.17300</td>\n",
       "      <td>NaN</td>\n",
       "    </tr>\n",
       "    <tr>\n",
       "      <th>4</th>\n",
       "      <td>84358402</td>\n",
       "      <td>M</td>\n",
       "      <td>20.29</td>\n",
       "      <td>14.34</td>\n",
       "      <td>135.10</td>\n",
       "      <td>1297.0</td>\n",
       "      <td>0.10030</td>\n",
       "      <td>0.13280</td>\n",
       "      <td>0.1980</td>\n",
       "      <td>0.10430</td>\n",
       "      <td>...</td>\n",
       "      <td>16.67</td>\n",
       "      <td>152.20</td>\n",
       "      <td>1575.0</td>\n",
       "      <td>0.1374</td>\n",
       "      <td>0.2050</td>\n",
       "      <td>0.4000</td>\n",
       "      <td>0.1625</td>\n",
       "      <td>0.2364</td>\n",
       "      <td>0.07678</td>\n",
       "      <td>NaN</td>\n",
       "    </tr>\n",
       "  </tbody>\n",
       "</table>\n",
       "<p>5 rows × 33 columns</p>\n",
       "</div>"
      ],
      "text/plain": [
       "         id diagnosis  radius_mean  texture_mean  perimeter_mean  area_mean  \\\n",
       "0    842302         M        17.99         10.38          122.80     1001.0   \n",
       "1    842517         M        20.57         17.77          132.90     1326.0   \n",
       "2  84300903         M        19.69         21.25          130.00     1203.0   \n",
       "3  84348301         M        11.42         20.38           77.58      386.1   \n",
       "4  84358402         M        20.29         14.34          135.10     1297.0   \n",
       "\n",
       "   smoothness_mean  compactness_mean  concavity_mean  concave points_mean  \\\n",
       "0          0.11840           0.27760          0.3001              0.14710   \n",
       "1          0.08474           0.07864          0.0869              0.07017   \n",
       "2          0.10960           0.15990          0.1974              0.12790   \n",
       "3          0.14250           0.28390          0.2414              0.10520   \n",
       "4          0.10030           0.13280          0.1980              0.10430   \n",
       "\n",
       "   ...  texture_worst  perimeter_worst  area_worst  smoothness_worst  \\\n",
       "0  ...          17.33           184.60      2019.0            0.1622   \n",
       "1  ...          23.41           158.80      1956.0            0.1238   \n",
       "2  ...          25.53           152.50      1709.0            0.1444   \n",
       "3  ...          26.50            98.87       567.7            0.2098   \n",
       "4  ...          16.67           152.20      1575.0            0.1374   \n",
       "\n",
       "   compactness_worst  concavity_worst  concave points_worst  symmetry_worst  \\\n",
       "0             0.6656           0.7119                0.2654          0.4601   \n",
       "1             0.1866           0.2416                0.1860          0.2750   \n",
       "2             0.4245           0.4504                0.2430          0.3613   \n",
       "3             0.8663           0.6869                0.2575          0.6638   \n",
       "4             0.2050           0.4000                0.1625          0.2364   \n",
       "\n",
       "   fractal_dimension_worst  Unnamed: 32  \n",
       "0                  0.11890          NaN  \n",
       "1                  0.08902          NaN  \n",
       "2                  0.08758          NaN  \n",
       "3                  0.17300          NaN  \n",
       "4                  0.07678          NaN  \n",
       "\n",
       "[5 rows x 33 columns]"
      ]
     },
     "metadata": {},
     "output_type": "display_data"
    },
    {
     "name": "stdout",
     "output_type": "stream",
     "text": [
      "<class 'pandas.core.frame.DataFrame'>\n",
      "RangeIndex: 569 entries, 0 to 568\n",
      "Data columns (total 33 columns):\n",
      " #   Column                   Non-Null Count  Dtype  \n",
      "---  ------                   --------------  -----  \n",
      " 0   id                       569 non-null    int64  \n",
      " 1   diagnosis                569 non-null    object \n",
      " 2   radius_mean              569 non-null    float64\n",
      " 3   texture_mean             569 non-null    float64\n",
      " 4   perimeter_mean           569 non-null    float64\n",
      " 5   area_mean                569 non-null    float64\n",
      " 6   smoothness_mean          569 non-null    float64\n",
      " 7   compactness_mean         569 non-null    float64\n",
      " 8   concavity_mean           569 non-null    float64\n",
      " 9   concave points_mean      569 non-null    float64\n",
      " 10  symmetry_mean            569 non-null    float64\n",
      " 11  fractal_dimension_mean   569 non-null    float64\n",
      " 12  radius_se                569 non-null    float64\n",
      " 13  texture_se               569 non-null    float64\n",
      " 14  perimeter_se             569 non-null    float64\n",
      " 15  area_se                  569 non-null    float64\n",
      " 16  smoothness_se            569 non-null    float64\n",
      " 17  compactness_se           569 non-null    float64\n",
      " 18  concavity_se             569 non-null    float64\n",
      " 19  concave points_se        569 non-null    float64\n",
      " 20  symmetry_se              569 non-null    float64\n",
      " 21  fractal_dimension_se     569 non-null    float64\n",
      " 22  radius_worst             569 non-null    float64\n",
      " 23  texture_worst            569 non-null    float64\n",
      " 24  perimeter_worst          569 non-null    float64\n",
      " 25  area_worst               569 non-null    float64\n",
      " 26  smoothness_worst         569 non-null    float64\n",
      " 27  compactness_worst        569 non-null    float64\n",
      " 28  concavity_worst          569 non-null    float64\n",
      " 29  concave points_worst     569 non-null    float64\n",
      " 30  symmetry_worst           569 non-null    float64\n",
      " 31  fractal_dimension_worst  569 non-null    float64\n",
      " 32  Unnamed: 32              0 non-null      float64\n",
      "dtypes: float64(31), int64(1), object(1)\n",
      "memory usage: 146.8+ KB\n",
      "None\n",
      "33\n",
      "<class 'numpy.ndarray'> [[1.799e+01 1.038e+01 1.228e+02 ... 1.622e-01 6.656e-01 7.119e-01]\n",
      " [2.057e+01 1.777e+01 1.329e+02 ... 1.238e-01 1.866e-01 2.416e-01]\n",
      " [1.969e+01 2.125e+01 1.300e+02 ... 1.444e-01 4.245e-01 4.504e-01]\n",
      " ...\n",
      " [1.660e+01 2.808e+01 1.083e+02 ... 1.139e-01 3.094e-01 3.403e-01]\n",
      " [2.060e+01 2.933e+01 1.401e+02 ... 1.650e-01 8.681e-01 9.387e-01]\n",
      " [7.760e+00 2.454e+01 4.792e+01 ... 8.996e-02 6.444e-02 0.000e+00]] (569, 27)\n",
      "<class 'numpy.ndarray'> ['M' 'M' 'M' 'M' 'M' 'M' 'M' 'M' 'M' 'M' 'M' 'M' 'M' 'M' 'M' 'M' 'M' 'M'\n",
      " 'M' 'B' 'B' 'B' 'M' 'M' 'M' 'M' 'M' 'M' 'M' 'M' 'M' 'M' 'M' 'M' 'M' 'M'\n",
      " 'M' 'B' 'M' 'M' 'M' 'M' 'M' 'M' 'M' 'M' 'B' 'M' 'B' 'B' 'B' 'B' 'B' 'M'\n",
      " 'M' 'B' 'M' 'M' 'B' 'B' 'B' 'B' 'M' 'B' 'M' 'M' 'B' 'B' 'B' 'B' 'M' 'B'\n",
      " 'M' 'M' 'B' 'M' 'B' 'M' 'M' 'B' 'B' 'B' 'M' 'M' 'B' 'M' 'M' 'M' 'B' 'B'\n",
      " 'B' 'M' 'B' 'B' 'M' 'M' 'B' 'B' 'B' 'M' 'M' 'B' 'B' 'B' 'B' 'M' 'B' 'B'\n",
      " 'M' 'B' 'B' 'B' 'B' 'B' 'B' 'B' 'B' 'M' 'M' 'M' 'B' 'M' 'M' 'B' 'B' 'B'\n",
      " 'M' 'M' 'B' 'M' 'B' 'M' 'M' 'B' 'M' 'M' 'B' 'B' 'M' 'B' 'B' 'M' 'B' 'B'\n",
      " 'B' 'B' 'M' 'B' 'B' 'B' 'B' 'B' 'B' 'B' 'B' 'B' 'M' 'B' 'B' 'B' 'B' 'M'\n",
      " 'M' 'B' 'M' 'B' 'B' 'M' 'M' 'B' 'B' 'M' 'M' 'B' 'B' 'B' 'B' 'M' 'B' 'B'\n",
      " 'M' 'M' 'M' 'B' 'M' 'B' 'M' 'B' 'B' 'B' 'M' 'B' 'B' 'M' 'M' 'B' 'M' 'M'\n",
      " 'M' 'M' 'B' 'M' 'M' 'M' 'B' 'M' 'B' 'M' 'B' 'B' 'M' 'B' 'M' 'M' 'M' 'M'\n",
      " 'B' 'B' 'M' 'M' 'B' 'B' 'B' 'M' 'B' 'B' 'B' 'B' 'B' 'M' 'M' 'B' 'B' 'M'\n",
      " 'B' 'B' 'M' 'M' 'B' 'M' 'B' 'B' 'B' 'B' 'M' 'B' 'B' 'B' 'B' 'B' 'M' 'B'\n",
      " 'M' 'M' 'M' 'M' 'M' 'M' 'M' 'M' 'M' 'M' 'M' 'M' 'M' 'M' 'B' 'B' 'B' 'B'\n",
      " 'B' 'B' 'M' 'B' 'M' 'B' 'B' 'M' 'B' 'B' 'M' 'B' 'M' 'M' 'B' 'B' 'B' 'B'\n",
      " 'B' 'B' 'B' 'B' 'B' 'B' 'B' 'B' 'B' 'M' 'B' 'B' 'M' 'B' 'M' 'B' 'B' 'B'\n",
      " 'B' 'B' 'B' 'B' 'B' 'B' 'B' 'B' 'B' 'B' 'B' 'M' 'B' 'B' 'B' 'M' 'B' 'M'\n",
      " 'B' 'B' 'B' 'B' 'M' 'M' 'M' 'B' 'B' 'B' 'B' 'M' 'B' 'M' 'B' 'M' 'B' 'B'\n",
      " 'B' 'M' 'B' 'B' 'B' 'B' 'B' 'B' 'B' 'M' 'M' 'M' 'B' 'B' 'B' 'B' 'B' 'B'\n",
      " 'B' 'B' 'B' 'B' 'B' 'M' 'M' 'B' 'M' 'M' 'M' 'B' 'M' 'M' 'B' 'B' 'B' 'B'\n",
      " 'B' 'M' 'B' 'B' 'B' 'B' 'B' 'M' 'B' 'B' 'B' 'M' 'B' 'B' 'M' 'M' 'B' 'B'\n",
      " 'B' 'B' 'B' 'B' 'M' 'B' 'B' 'B' 'B' 'B' 'B' 'B' 'M' 'B' 'B' 'B' 'B' 'B'\n",
      " 'M' 'B' 'B' 'M' 'B' 'B' 'B' 'B' 'B' 'B' 'B' 'B' 'B' 'B' 'B' 'B' 'M' 'B'\n",
      " 'M' 'M' 'B' 'M' 'B' 'B' 'B' 'B' 'B' 'M' 'B' 'B' 'M' 'B' 'M' 'B' 'B' 'M'\n",
      " 'B' 'M' 'B' 'B' 'B' 'B' 'B' 'B' 'B' 'B' 'M' 'M' 'B' 'B' 'B' 'B' 'B' 'B'\n",
      " 'M' 'B' 'B' 'B' 'B' 'B' 'B' 'B' 'B' 'B' 'B' 'M' 'B' 'B' 'B' 'B' 'B' 'B'\n",
      " 'B' 'M' 'B' 'M' 'B' 'B' 'M' 'B' 'B' 'B' 'B' 'B' 'M' 'M' 'B' 'M' 'B' 'M'\n",
      " 'B' 'B' 'B' 'B' 'B' 'M' 'B' 'B' 'M' 'B' 'M' 'B' 'M' 'M' 'B' 'B' 'B' 'M'\n",
      " 'B' 'B' 'B' 'B' 'B' 'B' 'B' 'B' 'B' 'B' 'B' 'M' 'B' 'M' 'M' 'B' 'B' 'B'\n",
      " 'B' 'B' 'B' 'B' 'B' 'B' 'B' 'B' 'B' 'B' 'B' 'B' 'B' 'B' 'B' 'B' 'B' 'B'\n",
      " 'B' 'B' 'B' 'B' 'M' 'M' 'M' 'M' 'M' 'M' 'B'] (569,)\n"
     ]
    }
   ],
   "source": [
    "import pandas as pd\n",
    "\n",
    "# dataset = pd.read_csv(\"cancer.csv\")\n",
    "dataset = pd.read_csv(\"/Users/ytshen/Desktop/Machine_Learning/datasets/breast_cancer.csv\")\n",
    "display(dataset.head())\n",
    "print(dataset.info())\n",
    "print(len(dataset.columns))\n",
    "\n",
    "x = dataset.iloc[:, 2:29].values\n",
    "y = dataset.iloc[:, 1].values\n",
    "print(type(x), x, x.shape)\n",
    "print(type(y), y, y.shape)"
   ]
  },
  {
   "cell_type": "markdown",
   "id": "e8656d08",
   "metadata": {},
   "source": [
    "#### 1b. Data engineering\n",
    "* 把 80% 的資料當作 training set 剩下的 20% 的資料當作 testing set\n",
    "* 把數值資料做 standardlization $x_{new} = \\frac{x_{old} - \\mu}{\\sigma}$\n",
    "  * 這是一種 scaling"
   ]
  },
  {
   "cell_type": "code",
   "execution_count": 8,
   "id": "6dcbb68d",
   "metadata": {},
   "outputs": [
    {
     "name": "stdout",
     "output_type": "stream",
     "text": [
      "[[ 1.42387695  1.62361053  1.44101039 ...  0.82838394  2.5909234\n",
      "   1.61650397]\n",
      " [-0.88701893 -1.02116553 -0.8861077  ... -0.95276866 -0.3522672\n",
      "  -0.55988481]\n",
      " [ 0.36530132  0.38831218  0.42444649 ...  0.86280235  0.93793354\n",
      "   0.7148709 ]\n",
      " ...\n",
      " [-0.37036663  2.18510979 -0.40506966 ... -0.38486493 -0.58348139\n",
      "  -0.13496624]\n",
      " [ 0.23613824 -0.60634364  0.25488363 ... -0.78067662 -0.22835683\n",
      "  -0.41456841]\n",
      " [ 1.39579802  1.24087431  1.6239919  ... -1.20230212  0.87470093\n",
      "   0.44054424]]\n",
      "[[-0.02126401 -1.40913872 -0.08493182 ... -0.87952794 -0.94398627\n",
      "  -1.13110986]\n",
      " [-0.04522049 -0.70911992 -0.09455065 ... -1.1927092  -0.30258005\n",
      "  -0.66378055]\n",
      " [-0.28478532 -0.80162241 -0.2589452  ... -1.73427188 -0.16415155\n",
      "   0.29605083]\n",
      " ...\n",
      " [-0.13206274 -0.48911401 -0.19773446 ... -0.67234649 -0.56565682\n",
      "  -0.65513342]\n",
      " [-0.88070283 -1.4866408  -0.93182611 ... -0.87470977 -1.09594443\n",
      "  -1.22132825]\n",
      " [-0.86273546 -0.32160951 -0.84001    ...  0.36356076 -0.04326151\n",
      "  -0.29051279]]\n"
     ]
    }
   ],
   "source": [
    "from sklearn.model_selection import train_test_split\n",
    "\n",
    "x_train, x_test, y_train, y_test = train_test_split(x, y, test_size=0.2)\n",
    "\n",
    "from sklearn.preprocessing import StandardScaler\n",
    "\n",
    "scaler = StandardScaler()\n",
    "\n",
    "x_train = scaler.fit_transform(x_train)\n",
    "x_test = scaler.fit_transform(x_test)\n",
    "print(x_train)\n",
    "print(x_test)"
   ]
  },
  {
   "cell_type": "markdown",
   "id": "0a279de5",
   "metadata": {},
   "source": [
    "#### 1c. Logistic regression model\n",
    "* Logistic regression 是一種 classification\n",
    "* Classification model 可以用 confusion matrix 來判斷模型預測的結果的好壞"
   ]
  },
  {
   "cell_type": "code",
   "execution_count": 9,
   "id": "c301f270",
   "metadata": {},
   "outputs": [
    {
     "name": "stdout",
     "output_type": "stream",
     "text": [
      "[[72  2]\n",
      " [ 3 37]]\n"
     ]
    }
   ],
   "source": [
    "from sklearn.linear_model import LogisticRegression\n",
    "\n",
    "logistic_classifier = LogisticRegression()\n",
    "logistic_classifier.fit(x_train, y_train)\n",
    "\n",
    "y_preds = logistic_classifier.predict(x_test)\n",
    "\n",
    "# metrics\n",
    "from sklearn.metrics import confusion_matrix\n",
    "print(confusion_matrix(y_test, y_preds))"
   ]
  },
  {
   "cell_type": "markdown",
   "id": "41b34fc1",
   "metadata": {},
   "source": [
    "#### 1d. SVM model\n",
    "* SVM 通常比 logistic regression 的結果好\n",
    "* SVM 分兩種:\n",
    "  * SVC: support vector classification\n",
    "  * SVR: support vector regression"
   ]
  },
  {
   "cell_type": "code",
   "execution_count": 10,
   "id": "59fe1441",
   "metadata": {},
   "outputs": [
    {
     "name": "stdout",
     "output_type": "stream",
     "text": [
      "[[72  2]\n",
      " [ 3 37]]\n"
     ]
    }
   ],
   "source": [
    "from sklearn.svm import SVC\n",
    "\n",
    "svm = SVC(kernel=\"rbf\")\n",
    "svm.fit(x_train, y_train)\n",
    "\n",
    "y_pred = svm.predict(x_test)\n",
    "\n",
    "from sklearn.metrics import confusion_matrix\n",
    "print(confusion_matrix(y_test, y_preds))"
   ]
  },
  {
   "cell_type": "markdown",
   "id": "acea545e",
   "metadata": {},
   "source": [
    "#### 1e. Decision tree model\n",
    "* Scalling doesn't help decision tree"
   ]
  },
  {
   "cell_type": "code",
   "execution_count": 11,
   "id": "b63d7817",
   "metadata": {},
   "outputs": [
    {
     "name": "stdout",
     "output_type": "stream",
     "text": [
      "[[72  2]\n",
      " [ 3 37]]\n"
     ]
    }
   ],
   "source": [
    "from sklearn.tree import DecisionTreeClassifier\n",
    "\n",
    "tree = DecisionTreeClassifier(criterion=\"entropy\")\n",
    "tree.fit(x_train, y_train)\n",
    "\n",
    "y_pred = tree.predict(x_test)\n",
    "\n",
    "from sklearn.metrics import confusion_matrix\n",
    "print(confusion_matrix(y_test, y_preds))"
   ]
  },
  {
   "cell_type": "markdown",
   "id": "125c5f71",
   "metadata": {},
   "source": [
    "#### 1f. Random forest\n",
    "* Ensemble\n",
    "* RF 容易 overfitting"
   ]
  },
  {
   "cell_type": "code",
   "execution_count": 12,
   "id": "f632f10e",
   "metadata": {},
   "outputs": [
    {
     "name": "stdout",
     "output_type": "stream",
     "text": [
      "[[72  2]\n",
      " [ 3 37]]\n"
     ]
    }
   ],
   "source": [
    "from sklearn.ensemble import RandomForestClassifier\n",
    "\n",
    "forest = RandomForestClassifier(n_estimators = 100, criterion=\"entropy\")\n",
    "forest.fit(x_train, y_train)\n",
    "\n",
    "y_pred = forest.predict(x_test)\n",
    "\n",
    "from sklearn.metrics import confusion_matrix\n",
    "print(confusion_matrix(y_test, y_preds))"
   ]
  },
  {
   "cell_type": "markdown",
   "id": "25272212",
   "metadata": {},
   "source": [
    "## Boosting and Optimization\n",
    "* Data:\n",
    "  * [Breast Cancer Wisconsin (Diagnostic) Data Set](https://www.kaggle.com/uciml/breast-cancer-wisconsin-data?select=data.csv)"
   ]
  },
  {
   "cell_type": "markdown",
   "id": "3489722a",
   "metadata": {},
   "source": [
    "#### 1a. Load data"
   ]
  },
  {
   "cell_type": "code",
   "execution_count": 13,
   "id": "6d4580bb",
   "metadata": {},
   "outputs": [],
   "source": [
    "import pandas as pd\n",
    "# dataset = pd.read_csv(\"cancer.csv\")\n",
    "dataset = pd.read_csv(\"/Users/ytshen/Desktop/Machine_Learning/datasets/breast_cancer.csv\")\n",
    "\n",
    "x = dataset.iloc[:, 2:29].values\n",
    "y = dataset.iloc[:, 1].values"
   ]
  },
  {
   "cell_type": "markdown",
   "id": "60bf9ec0",
   "metadata": {},
   "source": [
    "#### 1b. Data engeering"
   ]
  },
  {
   "cell_type": "code",
   "execution_count": 14,
   "id": "04348a5e",
   "metadata": {},
   "outputs": [
    {
     "name": "stdout",
     "output_type": "stream",
     "text": [
      "[[ 0.93672053  1.56724834  0.92966695 ... -0.37775362 -0.48470187\n",
      "   0.03825434]\n",
      " [-0.93462051 -1.68820921 -0.96290255 ... -1.76458665 -1.13990074\n",
      "  -1.15570821]\n",
      " [-1.23185041  0.04918487 -1.17944654 ...  1.0277603  -0.16477072\n",
      "  -0.03724079]\n",
      " ...\n",
      " [-0.78801776  0.29069496 -0.61075778 ...  3.42514005  3.83342577\n",
      "   1.9688404 ]\n",
      " [ 0.56015267 -0.28350762  0.5374678  ... -0.06195777 -0.20625492\n",
      "   0.03777953]\n",
      " [-0.92312226  0.52974067 -0.8477462  ...  2.5845004   0.08413445\n",
      "   0.61752512]]\n"
     ]
    }
   ],
   "source": [
    "from sklearn.model_selection import train_test_split\n",
    "x_train, x_test, y_train, y_test = train_test_split(x, y, test_size=0.2)\n",
    "\n",
    "from sklearn.preprocessing import StandardScaler\n",
    "scaler = StandardScaler()\n",
    "x_train = scaler.fit_transform(x_train)\n",
    "x_test = scaler.fit_transform(x_test)\n",
    "\n",
    "print(x_train)"
   ]
  },
  {
   "cell_type": "markdown",
   "id": "73c70e04",
   "metadata": {},
   "source": [
    "#### 1c. Principle component analysis (PCA) model"
   ]
  },
  {
   "cell_type": "code",
   "execution_count": 15,
   "id": "f0240d49",
   "metadata": {},
   "outputs": [
    {
     "name": "stdout",
     "output_type": "stream",
     "text": [
      "[[ 3.94952028]\n",
      " [-4.41652412]\n",
      " [-2.29148832]\n",
      " [ 3.46488443]\n",
      " [-3.45860166]\n",
      " [-3.65187567]\n",
      " [ 4.56171306]\n",
      " [ 3.7928182 ]\n",
      " [-3.08510009]\n",
      " [ 4.3709421 ]]\n"
     ]
    },
    {
     "data": {
      "image/png": "[encoded data removed]",
      "text/plain": [
       "<Figure size 432x288 with 1 Axes>"
      ]
     },
     "metadata": {
      "needs_background": "light"
     },
     "output_type": "display_data"
    }
   ],
   "source": [
    "# PCA can help to extract important features\n",
    "\n",
    "from sklearn.decomposition import PCA\n",
    "pca = PCA(n_components=1) # turn all x_{i} values into one component\n",
    "x_train_scaled = pca.fit_transform(x_train)\n",
    "print(x_train_scaled[:10])\n",
    "\n",
    "import matplotlib.pyplot as plt\n",
    "plt.scatter(x_train_scaled, y_train)\n",
    "plt.show()"
   ]
  },
  {
   "cell_type": "markdown",
   "id": "448d8811",
   "metadata": {},
   "source": [
    "#### 1d. Gradient boosting"
   ]
  },
  {
   "cell_type": "code",
   "execution_count": 16,
   "id": "2c29e760",
   "metadata": {},
   "outputs": [
    {
     "name": "stdout",
     "output_type": "stream",
     "text": [
      "[[76  1]\n",
      " [ 0 37]]\n"
     ]
    }
   ],
   "source": [
    "from sklearn.ensemble import GradientBoostingClassifier\n",
    "\n",
    "gradientboost = GradientBoostingClassifier()\n",
    "gradientboost.fit(x_train, y_train)\n",
    "\n",
    "\n",
    "y_preds = gradientboost.predict(x_test)\n",
    "\n",
    "from sklearn.metrics import confusion_matrix\n",
    "print(confusion_matrix(y_test, y_preds))"
   ]
  },
  {
   "cell_type": "markdown",
   "id": "8756316c",
   "metadata": {},
   "source": [
    "#### 1e. Extreme gradient boost (XGBoost) model\n",
    "* Scalling doesn't help decision tree"
   ]
  },
  {
   "cell_type": "code",
   "execution_count": null,
   "id": "6ec1e830",
   "metadata": {},
   "outputs": [],
   "source": [
    "from xgboost import XGBClassifier\n",
    "\n",
    "xgboost = XGBClassifier()\n",
    "xgboost.fit(x_train, y_train)\n",
    "\n",
    "y_preds = xgboost.predict(x_test)\n",
    "\n",
    "from sklearn.metrics import confusion_matrix\n",
    "print(confusion_matrix(y_test, y_preds))"
   ]
  },
  {
   "cell_type": "code",
   "execution_count": null,
   "id": "a955a36a",
   "metadata": {},
   "outputs": [],
   "source": []
  }
 ],
 "metadata": {
  "kernelspec": {
   "display_name": "Python [conda env:root] *",
   "language": "python",
   "name": "conda-root-py"
  },
  "language_info": {
   "codemirror_mode": {
    "name": "ipython",
    "version": 3
   },
   "file_extension": ".py",
   "mimetype": "text/x-python",
   "name": "python",
   "nbconvert_exporter": "python",
   "pygments_lexer": "ipython3",
   "version": "3.8.12"
  }
 },
 "nbformat": 4,
 "nbformat_minor": 5
}
