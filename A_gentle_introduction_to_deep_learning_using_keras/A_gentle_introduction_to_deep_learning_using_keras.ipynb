{
 "cells": [
  {
   "cell_type": "markdown",
   "metadata": {},
   "source": [
    "# A general introduction to deep learning using keras"
   ]
  },
  {
   "cell_type": "code",
   "execution_count": 5,
   "metadata": {},
   "outputs": [],
   "source": [
    "import numpy as np\n",
    "import pandas as pd\n",
    "import matplotlib.pyplot as plt\n",
    "%matplotlib inline"
   ]
  },
  {
   "cell_type": "code",
   "execution_count": 6,
   "metadata": {},
   "outputs": [],
   "source": [
    "seed = 7\n",
    "np.random.seed(seed)"
   ]
  },
  {
   "cell_type": "markdown",
   "metadata": {},
   "source": [
    "## 1. Load data"
   ]
  },
  {
   "cell_type": "code",
   "execution_count": 7,
   "metadata": {},
   "outputs": [
    {
     "data": {
      "text/html": [
       "<div>\n",
       "<style scoped>\n",
       "    .dataframe tbody tr th:only-of-type {\n",
       "        vertical-align: middle;\n",
       "    }\n",
       "\n",
       "    .dataframe tbody tr th {\n",
       "        vertical-align: top;\n",
       "    }\n",
       "\n",
       "    .dataframe thead th {\n",
       "        text-align: right;\n",
       "    }\n",
       "</style>\n",
       "<table border=\"1\" class=\"dataframe\">\n",
       "  <thead>\n",
       "    <tr style=\"text-align: right;\">\n",
       "      <th></th>\n",
       "      <th>MaritalStatus</th>\n",
       "      <th>Gender</th>\n",
       "      <th>YearlyIncome</th>\n",
       "      <th>TotalChildren</th>\n",
       "      <th>NumberChildrenAtHome</th>\n",
       "      <th>EnglishEducation</th>\n",
       "      <th>HouseOwnerFlag</th>\n",
       "      <th>NumberCarsOwned</th>\n",
       "      <th>CommuteDistance</th>\n",
       "      <th>Region</th>\n",
       "      <th>Age</th>\n",
       "      <th>BikeBuyer</th>\n",
       "    </tr>\n",
       "  </thead>\n",
       "  <tbody>\n",
       "    <tr>\n",
       "      <th>0</th>\n",
       "      <td>5</td>\n",
       "      <td>1</td>\n",
       "      <td>90000</td>\n",
       "      <td>2</td>\n",
       "      <td>0</td>\n",
       "      <td>5</td>\n",
       "      <td>1</td>\n",
       "      <td>0</td>\n",
       "      <td>2</td>\n",
       "      <td>2</td>\n",
       "      <td>50</td>\n",
       "      <td>1</td>\n",
       "    </tr>\n",
       "    <tr>\n",
       "      <th>1</th>\n",
       "      <td>5</td>\n",
       "      <td>1</td>\n",
       "      <td>60000</td>\n",
       "      <td>3</td>\n",
       "      <td>3</td>\n",
       "      <td>5</td>\n",
       "      <td>0</td>\n",
       "      <td>1</td>\n",
       "      <td>1</td>\n",
       "      <td>2</td>\n",
       "      <td>51</td>\n",
       "      <td>1</td>\n",
       "    </tr>\n",
       "    <tr>\n",
       "      <th>2</th>\n",
       "      <td>5</td>\n",
       "      <td>1</td>\n",
       "      <td>60000</td>\n",
       "      <td>3</td>\n",
       "      <td>3</td>\n",
       "      <td>5</td>\n",
       "      <td>1</td>\n",
       "      <td>1</td>\n",
       "      <td>5</td>\n",
       "      <td>2</td>\n",
       "      <td>51</td>\n",
       "      <td>1</td>\n",
       "    </tr>\n",
       "    <tr>\n",
       "      <th>3</th>\n",
       "      <td>5</td>\n",
       "      <td>2</td>\n",
       "      <td>70000</td>\n",
       "      <td>0</td>\n",
       "      <td>0</td>\n",
       "      <td>5</td>\n",
       "      <td>0</td>\n",
       "      <td>1</td>\n",
       "      <td>10</td>\n",
       "      <td>2</td>\n",
       "      <td>49</td>\n",
       "      <td>1</td>\n",
       "    </tr>\n",
       "    <tr>\n",
       "      <th>4</th>\n",
       "      <td>5</td>\n",
       "      <td>2</td>\n",
       "      <td>80000</td>\n",
       "      <td>5</td>\n",
       "      <td>5</td>\n",
       "      <td>5</td>\n",
       "      <td>1</td>\n",
       "      <td>4</td>\n",
       "      <td>2</td>\n",
       "      <td>2</td>\n",
       "      <td>48</td>\n",
       "      <td>1</td>\n",
       "    </tr>\n",
       "  </tbody>\n",
       "</table>\n",
       "</div>"
      ],
      "text/plain": [
       "   MaritalStatus  Gender  YearlyIncome  TotalChildren  NumberChildrenAtHome  \\\n",
       "0              5       1         90000              2                     0   \n",
       "1              5       1         60000              3                     3   \n",
       "2              5       1         60000              3                     3   \n",
       "3              5       2         70000              0                     0   \n",
       "4              5       2         80000              5                     5   \n",
       "\n",
       "   EnglishEducation  HouseOwnerFlag  NumberCarsOwned  CommuteDistance  Region  \\\n",
       "0                 5               1                0                2       2   \n",
       "1                 5               0                1                1       2   \n",
       "2                 5               1                1                5       2   \n",
       "3                 5               0                1               10       2   \n",
       "4                 5               1                4                2       2   \n",
       "\n",
       "   Age  BikeBuyer  \n",
       "0   50          1  \n",
       "1   51          1  \n",
       "2   51          1  \n",
       "3   49          1  \n",
       "4   48          1  "
      ]
     },
     "execution_count": 7,
     "metadata": {},
     "output_type": "execute_result"
    }
   ],
   "source": [
    "df = pd.read_csv('BBC.csv')\n",
    "df.head()"
   ]
  },
  {
   "cell_type": "code",
   "execution_count": 8,
   "metadata": {},
   "outputs": [
    {
     "name": "stdout",
     "output_type": "stream",
     "text": [
      "<class 'pandas.core.frame.DataFrame'>\n",
      "RangeIndex: 18484 entries, 0 to 18483\n",
      "Data columns (total 12 columns):\n",
      " #   Column                Non-Null Count  Dtype\n",
      "---  ------                --------------  -----\n",
      " 0   MaritalStatus         18484 non-null  int64\n",
      " 1   Gender                18484 non-null  int64\n",
      " 2   YearlyIncome          18484 non-null  int64\n",
      " 3   TotalChildren         18484 non-null  int64\n",
      " 4   NumberChildrenAtHome  18484 non-null  int64\n",
      " 5   EnglishEducation      18484 non-null  int64\n",
      " 6   HouseOwnerFlag        18484 non-null  int64\n",
      " 7   NumberCarsOwned       18484 non-null  int64\n",
      " 8   CommuteDistance       18484 non-null  int64\n",
      " 9   Region                18484 non-null  int64\n",
      " 10  Age                   18484 non-null  int64\n",
      " 11  BikeBuyer             18484 non-null  int64\n",
      "dtypes: int64(12)\n",
      "memory usage: 1.7 MB\n"
     ]
    }
   ],
   "source": [
    "df.info()"
   ]
  },
  {
   "cell_type": "markdown",
   "metadata": {},
   "source": [
    "## 2. Preprocessing"
   ]
  },
  {
   "cell_type": "code",
   "execution_count": 9,
   "metadata": {},
   "outputs": [
    {
     "data": {
      "text/plain": [
       "array([[    5,     1, 90000, ...,     2,    50,     1],\n",
       "       [    5,     1, 60000, ...,     2,    51,     1],\n",
       "       [    5,     1, 60000, ...,     2,    51,     1],\n",
       "       ...,\n",
       "       [    4,     1, 30000, ...,     3,    57,     1],\n",
       "       [    5,     1, 30000, ...,     3,    58,     1],\n",
       "       [    5,     1, 30000, ...,     3,    57,     1]])"
      ]
     },
     "execution_count": 9,
     "metadata": {},
     "output_type": "execute_result"
    }
   ],
   "source": [
    "array = df.values\n",
    "array"
   ]
  },
  {
   "cell_type": "code",
   "execution_count": 10,
   "metadata": {},
   "outputs": [
    {
     "data": {
      "text/plain": [
       "(18484, 12)"
      ]
     },
     "execution_count": 10,
     "metadata": {},
     "output_type": "execute_result"
    }
   ],
   "source": [
    "array.shape"
   ]
  },
  {
   "cell_type": "markdown",
   "metadata": {},
   "source": [
    "* 要預測 `BikeBuyer` 所以用其他的欄位當作 features\n",
    "  * 因為輸入是 11 個欄位，所以 `input_dim=11`\n",
    "  * 預測的輸出是 1 個欄位，所以最後一層用 1 個 neuron\n",
    "    * activation function 用 sigmoid 來計算機率"
   ]
  },
  {
   "cell_type": "code",
   "execution_count": 11,
   "metadata": {},
   "outputs": [],
   "source": [
    "X = array[:, 0 : 11]\n",
    "y = array[:, 11]"
   ]
  },
  {
   "cell_type": "markdown",
   "metadata": {},
   "source": [
    "## 3. Build model\n",
    "\n",
    "* 蓋一個有 4 layers 的 fully connected model\n",
    "  * Layer 1: 輸入 11 維，有 11 個 neurons $\\rightarrow$ 參數數目 = $11 \\times 11 + 11$(bias) = 132\n",
    "  * Layer 2: 上一層有 11 維所以有 11 個輸出，這一層只有 8 個 neurons $\\rightarrow$ 參數數目 = $11 \\times 8 + 8$(bias) = 96\n",
    "  * Layer 3: 上一層有 8 維所以有 8 個輸出，這一層只有 8 個 neurons $\\rightarrow$ 參數數目 = $8 \\times 8 + 8$(bias) = 72\n",
    "  * Layer 4: 上一層有 8 維所以有 8 個輸出，這一層只有 1 個 neurons $\\rightarrow$ 參數數目 = $8 \\times 1 + 1$(bias) = 9\n",
    "  * 總共參數數目 = 132 + 96 + 72 + 9 = 309"
   ]
  },
  {
   "cell_type": "code",
   "execution_count": 12,
   "metadata": {},
   "outputs": [
    {
     "name": "stderr",
     "output_type": "stream",
     "text": [
      "Using TensorFlow backend.\n"
     ]
    },
    {
     "name": "stdout",
     "output_type": "stream",
     "text": [
      "Model: \"sequential_1\"\n",
      "_________________________________________________________________\n",
      "Layer (type)                 Output Shape              Param #   \n",
      "=================================================================\n",
      "dense_1 (Dense)              (None, 11)                132       \n",
      "_________________________________________________________________\n",
      "dense_2 (Dense)              (None, 8)                 96        \n",
      "_________________________________________________________________\n",
      "dense_3 (Dense)              (None, 8)                 72        \n",
      "_________________________________________________________________\n",
      "dense_4 (Dense)              (None, 1)                 9         \n",
      "=================================================================\n",
      "Total params: 309\n",
      "Trainable params: 309\n",
      "Non-trainable params: 0\n",
      "_________________________________________________________________\n"
     ]
    },
    {
     "name": "stderr",
     "output_type": "stream",
     "text": [
      "/usr/local/anaconda3/lib/python3.7/site-packages/ipykernel_launcher.py:5: UserWarning: Update your `Dense` call to the Keras 2 API: `Dense(11, input_dim=11, activation=\"relu\", kernel_initializer=\"uniform\")`\n",
      "  \"\"\"\n",
      "/usr/local/anaconda3/lib/python3.7/site-packages/ipykernel_launcher.py:6: UserWarning: Update your `Dense` call to the Keras 2 API: `Dense(8, activation=\"relu\", kernel_initializer=\"uniform\")`\n",
      "  \n",
      "/usr/local/anaconda3/lib/python3.7/site-packages/ipykernel_launcher.py:7: UserWarning: Update your `Dense` call to the Keras 2 API: `Dense(8, activation=\"relu\", kernel_initializer=\"uniform\")`\n",
      "  import sys\n",
      "/usr/local/anaconda3/lib/python3.7/site-packages/ipykernel_launcher.py:8: UserWarning: Update your `Dense` call to the Keras 2 API: `Dense(1, activation=\"sigmoid\", kernel_initializer=\"uniform\")`\n",
      "  \n"
     ]
    }
   ],
   "source": [
    "from keras.models import Sequential\n",
    "from keras.layers import Dense\n",
    "\n",
    "model = Sequential()\n",
    "model.add(Dense(11, input_dim=11, init='uniform', activation='relu'))\n",
    "model.add(Dense(8, init='uniform', activation='relu'))\n",
    "model.add(Dense(8, init='uniform', activation='relu'))\n",
    "model.add(Dense(1, init='uniform', activation='sigmoid'))\n",
    "\n",
    "model.compile(loss='binary_crossentropy', optimizer='adam', metrics=['accuracy'])\n",
    "model.summary()"
   ]
  },
  {
   "cell_type": "markdown",
   "metadata": {},
   "source": [
    "## 4. Fit model\n",
    "\n",
    "* 用 50 個 epochs, batch size 用 1000\n",
    "  * 就是用每 1000 筆資料為一組，跑一次 NN 後更新參數，等全部的資料跑完，才算做一個 epoch\n",
    "  * 然後這樣的動作重複 50 遍"
   ]
  },
  {
   "cell_type": "code",
   "execution_count": 13,
   "metadata": {},
   "outputs": [
    {
     "name": "stdout",
     "output_type": "stream",
     "text": [
      "Epoch 1/50\n",
      "18484/18484 [==============================] - 1s 44us/step - loss: 0.6931 - accuracy: 0.5019\n",
      "Epoch 2/50\n",
      "18484/18484 [==============================] - 0s 2us/step - loss: 0.6930 - accuracy: 0.5134\n",
      "Epoch 3/50\n",
      "18484/18484 [==============================] - 0s 2us/step - loss: 0.6929 - accuracy: 0.5191\n",
      "Epoch 4/50\n",
      "18484/18484 [==============================] - 0s 2us/step - loss: 0.6929 - accuracy: 0.5096\n",
      "Epoch 5/50\n",
      "18484/18484 [==============================] - 0s 2us/step - loss: 0.6928 - accuracy: 0.5123\n",
      "Epoch 6/50\n",
      "18484/18484 [==============================] - 0s 2us/step - loss: 0.6927 - accuracy: 0.5168\n",
      "Epoch 7/50\n",
      "18484/18484 [==============================] - 0s 2us/step - loss: 0.6927 - accuracy: 0.5177\n",
      "Epoch 8/50\n",
      "18484/18484 [==============================] - 0s 2us/step - loss: 0.6927 - accuracy: 0.5052\n",
      "Epoch 9/50\n",
      "18484/18484 [==============================] - 0s 2us/step - loss: 0.6926 - accuracy: 0.5123\n",
      "Epoch 10/50\n",
      "18484/18484 [==============================] - 0s 2us/step - loss: 0.6926 - accuracy: 0.5095\n",
      "Epoch 11/50\n",
      "18484/18484 [==============================] - 0s 2us/step - loss: 0.6925 - accuracy: 0.5109\n",
      "Epoch 12/50\n",
      "18484/18484 [==============================] - 0s 2us/step - loss: 0.6924 - accuracy: 0.5146\n",
      "Epoch 13/50\n",
      "18484/18484 [==============================] - 0s 2us/step - loss: 0.6924 - accuracy: 0.5113\n",
      "Epoch 14/50\n",
      "18484/18484 [==============================] - 0s 2us/step - loss: 0.6924 - accuracy: 0.5120\n",
      "Epoch 15/50\n",
      "18484/18484 [==============================] - 0s 2us/step - loss: 0.6924 - accuracy: 0.5097\n",
      "Epoch 16/50\n",
      "18484/18484 [==============================] - 0s 2us/step - loss: 0.6924 - accuracy: 0.5095\n",
      "Epoch 17/50\n",
      "18484/18484 [==============================] - 0s 2us/step - loss: 0.6923 - accuracy: 0.5094\n",
      "Epoch 18/50\n",
      "18484/18484 [==============================] - 0s 2us/step - loss: 0.6924 - accuracy: 0.5119\n",
      "Epoch 19/50\n",
      "18484/18484 [==============================] - 0s 2us/step - loss: 0.6922 - accuracy: 0.5082\n",
      "Epoch 20/50\n",
      "18484/18484 [==============================] - 0s 2us/step - loss: 0.6924 - accuracy: 0.5083\n",
      "Epoch 21/50\n",
      "18484/18484 [==============================] - 0s 2us/step - loss: 0.6922 - accuracy: 0.5126\n",
      "Epoch 22/50\n",
      "18484/18484 [==============================] - 0s 2us/step - loss: 0.6923 - accuracy: 0.5101\n",
      "Epoch 23/50\n",
      "18484/18484 [==============================] - 0s 2us/step - loss: 0.6922 - accuracy: 0.5127\n",
      "Epoch 24/50\n",
      "18484/18484 [==============================] - 0s 2us/step - loss: 0.6922 - accuracy: 0.5089\n",
      "Epoch 25/50\n",
      "18484/18484 [==============================] - 0s 2us/step - loss: 0.6922 - accuracy: 0.5141\n",
      "Epoch 26/50\n",
      "18484/18484 [==============================] - 0s 2us/step - loss: 0.6922 - accuracy: 0.5071\n",
      "Epoch 27/50\n",
      "18484/18484 [==============================] - 0s 2us/step - loss: 0.6922 - accuracy: 0.5048\n",
      "Epoch 28/50\n",
      "18484/18484 [==============================] - 0s 2us/step - loss: 0.6924 - accuracy: 0.5090\n",
      "Epoch 29/50\n",
      "18484/18484 [==============================] - 0s 2us/step - loss: 0.6921 - accuracy: 0.5128\n",
      "Epoch 30/50\n",
      "18484/18484 [==============================] - 0s 2us/step - loss: 0.6921 - accuracy: 0.5043\n",
      "Epoch 31/50\n",
      "18484/18484 [==============================] - 0s 2us/step - loss: 0.6921 - accuracy: 0.5171\n",
      "Epoch 32/50\n",
      "18484/18484 [==============================] - 0s 2us/step - loss: 0.6921 - accuracy: 0.5043\n",
      "Epoch 33/50\n",
      "18484/18484 [==============================] - 0s 2us/step - loss: 0.6922 - accuracy: 0.5130\n",
      "Epoch 34/50\n",
      "18484/18484 [==============================] - 0s 2us/step - loss: 0.6921 - accuracy: 0.5166\n",
      "Epoch 35/50\n",
      "18484/18484 [==============================] - 0s 2us/step - loss: 0.6921 - accuracy: 0.5074\n",
      "Epoch 36/50\n",
      "18484/18484 [==============================] - 0s 2us/step - loss: 0.6921 - accuracy: 0.5095\n",
      "Epoch 37/50\n",
      "18484/18484 [==============================] - 0s 2us/step - loss: 0.6920 - accuracy: 0.5158\n",
      "Epoch 38/50\n",
      "18484/18484 [==============================] - 0s 2us/step - loss: 0.6921 - accuracy: 0.5031\n",
      "Epoch 39/50\n",
      "18484/18484 [==============================] - 0s 2us/step - loss: 0.6920 - accuracy: 0.5174\n",
      "Epoch 40/50\n",
      "18484/18484 [==============================] - 0s 2us/step - loss: 0.6920 - accuracy: 0.5045\n",
      "Epoch 41/50\n",
      "18484/18484 [==============================] - 0s 2us/step - loss: 0.6920 - accuracy: 0.5091\n",
      "Epoch 42/50\n",
      "18484/18484 [==============================] - 0s 2us/step - loss: 0.6920 - accuracy: 0.5160\n",
      "Epoch 43/50\n",
      "18484/18484 [==============================] - 0s 2us/step - loss: 0.6922 - accuracy: 0.5128\n",
      "Epoch 44/50\n",
      "18484/18484 [==============================] - 0s 2us/step - loss: 0.6921 - accuracy: 0.5118\n",
      "Epoch 45/50\n",
      "18484/18484 [==============================] - 0s 2us/step - loss: 0.6919 - accuracy: 0.5090\n",
      "Epoch 46/50\n",
      "18484/18484 [==============================] - 0s 2us/step - loss: 0.6919 - accuracy: 0.5134\n",
      "Epoch 47/50\n",
      "18484/18484 [==============================] - 0s 2us/step - loss: 0.6919 - accuracy: 0.5153\n",
      "Epoch 48/50\n",
      "18484/18484 [==============================] - 0s 2us/step - loss: 0.6926 - accuracy: 0.5076\n",
      "Epoch 49/50\n",
      "18484/18484 [==============================] - 0s 2us/step - loss: 0.6919 - accuracy: 0.5176\n",
      "Epoch 50/50\n",
      "18484/18484 [==============================] - 0s 2us/step - loss: 0.6919 - accuracy: 0.5151\n"
     ]
    }
   ],
   "source": [
    "history = model.fit(X, y, epochs=50, batch_size=1000)"
   ]
  },
  {
   "cell_type": "markdown",
   "metadata": {},
   "source": [
    "## 5. Evaluation"
   ]
  },
  {
   "cell_type": "code",
   "execution_count": 14,
   "metadata": {},
   "outputs": [
    {
     "data": {
      "text/plain": [
       "dict_keys(['loss', 'accuracy'])"
      ]
     },
     "execution_count": 14,
     "metadata": {},
     "output_type": "execute_result"
    }
   ],
   "source": [
    "history.history.keys()"
   ]
  },
  {
   "cell_type": "markdown",
   "metadata": {},
   "source": [
    "* 所以可以用 loss 和 accuracy 畫圖，比較 training 和 test 的結果\n",
    "* 但是不知道為什麼 keras kernal 一直死掉，所以沒辦法畫圖..."
   ]
  },
  {
   "cell_type": "code",
   "execution_count": null,
   "metadata": {},
   "outputs": [],
   "source": [
    "# summarize history for loss\n",
    "plt.plot(history.history['loss'], label='train')\n",
    "plt.plot(history.history['val_loss'], label='test')\n",
    "plt.xlabel('epoch')\n",
    "plt.ylabel('loss')\n",
    "plt.title('model loss')\n",
    "plt.legend(loc='upper left')\n",
    "plt.show()"
   ]
  },
  {
   "cell_type": "code",
   "execution_count": null,
   "metadata": {},
   "outputs": [],
   "source": [
    "# summarize history for accuracy\n",
    "plt.plot(history.history['accuracy'], label='train')\n",
    "plt.plot(history.history['val_accuracy'], label='test')\n",
    "plt.xlabel('epoch')\n",
    "plt.ylabel('accuracy')\n",
    "plt.title('model accuracy')\n",
    "plt.legend(loc='upper left')\n",
    "plt.show()"
   ]
  },
  {
   "cell_type": "code",
   "execution_count": null,
   "metadata": {},
   "outputs": [],
   "source": [
    "scores = model.evaluate(X, y)\n",
    "print('%s: %.2f%%' % (model.metrics_names[1], scores[1] * 100))"
   ]
  },
  {
   "cell_type": "code",
   "execution_count": null,
   "metadata": {},
   "outputs": [],
   "source": []
  },
  {
   "cell_type": "code",
   "execution_count": null,
   "metadata": {},
   "outputs": [],
   "source": []
  }
 ],
 "metadata": {
  "kernelspec": {
   "display_name": "Python 3",
   "language": "python",
   "name": "python3"
  },
  "language_info": {
   "codemirror_mode": {
    "name": "ipython",
    "version": 3
   },
   "file_extension": ".py",
   "mimetype": "text/x-python",
   "name": "python",
   "nbconvert_exporter": "python",
   "pygments_lexer": "ipython3",
   "version": "3.7.7"
  }
 },
 "nbformat": 4,
 "nbformat_minor": 4
}
